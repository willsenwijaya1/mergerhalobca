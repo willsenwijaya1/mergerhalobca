{
 "cells": [
  {
   "cell_type": "code",
   "execution_count": null,
   "id": "cd45b230",
   "metadata": {},
   "outputs": [
    {
     "name": "stdout",
     "output_type": "stream",
     "text": [
      "File berhasil disimpan sebagai output.xlsx\n"
     ]
    }
   ],
   "source": [
    "import pandas as pd\n",
    "import os\n",
    "import glob\n",
    "\n",
    "# Menggunakan engine openpyxl untuk membaca file Excel dengan format aslinya\n",
    "read_engine = \"openpyxl\"\n",
    "\n",
    "# Mendapatkan daftar file yang sesuai di folder saat ini\n",
    "file_list = sorted(glob.glob(\"All_Conversation_Halo_BCA_Chat*.xlsx\"))\n",
    "\n",
    "def extract_table(file):\n",
    "    df_raw = pd.read_excel(file, header=None, engine=read_engine, keep_default_na=False, dtype=str)  \n",
    "\n",
    "    # Mencari baris yang mengandung header (Kolom 1, Kolom 2, dst.)\n",
    "    for i, row in df_raw.iterrows():\n",
    "        if row.astype(str).str.contains(\"Download\", case=False, na=False).any(): \n",
    "            start_row = i\n",
    "            break\n",
    "    else:\n",
    "        raise ValueError(f\"Header tidak ditemukan dalam file {file}\")\n",
    "\n",
    "    # Membaca ulang file dari baris yang mengandung header\n",
    "    df = pd.read_excel(file, skiprows=start_row, engine=read_engine, keep_default_na=False, dtype=str)  \n",
    "\n",
    "    # Menghapus baris yang memiliki sel dengan nilai tertentu beserta baris di bawahnya\n",
    "    keywords = [\"RESPONSE RATE\", \"PASSED RESPONSE RATE\", \"FAILED RESPONSE RATE\", \"ABANDONES RATE\"] \n",
    "    rows_to_drop = df[df.apply(lambda row: row.astype(str).isin(keywords).any(), axis=1)].index\n",
    "    for index in rows_to_drop:\n",
    "        df = df.drop(index, errors='ignore')\n",
    "        df = df.drop(index + 1, errors='ignore')  \n",
    "\n",
    "    return df.reset_index(drop=True)\n",
    "\n",
    "def extract_periode_date(file):\n",
    "    df_raw = pd.read_excel(file, header=None, engine=read_engine, keep_default_na=False, dtype=str)  \n",
    "    \n",
    "    # Mencari baris yang mengandung kata \"PERIODE\"\n",
    "    for i, row in df_raw.iterrows():\n",
    "        for j, cell in enumerate(row):\n",
    "            if isinstance(cell, str) and \"PERIODE\" in cell.upper():\n",
    "                # Mengambil tanggal di sebelah kanan jika ada\n",
    "                if j + 1 < len(row):\n",
    "                    date_value = row[j + 1]\n",
    "                    try:\n",
    "                        return pd.to_datetime(date_value, errors='coerce').strftime(\"%d-%b-%Y\")\n",
    "                    except:\n",
    "                        return None\n",
    "    return None\n",
    "\n",
    "# Menggabungkan semua tabel\n",
    "dataframes = []\n",
    "for file in file_list:\n",
    "    df = extract_table(file)\n",
    "    date = extract_periode_date(file)\n",
    "    if date:\n",
    "        df[\"Periode\"] = date  # Format sudah dalam dd-mmm-yyyy\n",
    "    \n",
    "    dataframes.append(df)\n",
    "\n",
    "merged_df = pd.concat(dataframes, ignore_index=True)\n",
    "\n",
    "# Menghapus kolom yang berjudul \"Unnamed\"\n",
    "merged_df = merged_df.loc[:, ~merged_df.columns.str.contains('^Unnamed')]\n",
    "\n",
    "# Simpan hasil gabungan tanpa mengubah format asli\n",
    "output_file = \"Merged.xlsx\"\n",
    "merged_df.to_excel(output_file, index=False, engine=read_engine)\n",
    "print(f\"File berhasil digabungkan dan disimpan sebagai '{output_file}'\")"
   ]
  },
  {
   "cell_type": "code",
   "execution_count": null,
   "id": "4bec2afc",
   "metadata": {},
   "outputs": [],
   "source": []
  }
 ],
 "metadata": {
  "kernelspec": {
   "display_name": "Python 3 (ipykernel)",
   "language": "python",
   "name": "python3"
  },
  "language_info": {
   "codemirror_mode": {
    "name": "ipython",
    "version": 3
   },
   "file_extension": ".py",
   "mimetype": "text/x-python",
   "name": "python",
   "nbconvert_exporter": "python",
   "pygments_lexer": "ipython3",
   "version": "3.9.13"
  }
 },
 "nbformat": 4,
 "nbformat_minor": 5
}
